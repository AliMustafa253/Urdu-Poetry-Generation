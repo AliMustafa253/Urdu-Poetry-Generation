{
  "nbformat": 4,
  "nbformat_minor": 0,
  "metadata": {
    "colab": {
      "name": "i18-0619.ipynb",
      "provenance": [],
      "collapsed_sections": []
    },
    "kernelspec": {
      "display_name": "Python 3",
      "name": "python3"
    },
    "language_info": {
      "name": "python"
    }
  },
  "cells": [
    {
      "cell_type": "markdown",
      "metadata": {
        "id": "kmbC1nj6k6GL"
      },
      "source": [
        "Ali Mustafa i18-0619_A Assignment 3"
      ]
    },
    {
      "cell_type": "markdown",
      "metadata": {
        "id": "jtooNZXDnss3"
      },
      "source": [
        "Some Documentation points:-\n",
        "\n",
        "In order to achieve Conditional frequency distribution, I made a new list of \n",
        "\n",
        "*   all the bi/trigrams with the first(second in case of backwards) word being the word that we already picked. Later I picked a word randomly from them, Hence working on probability in a way. (If I wanted to improve the chances of the words occuring more commonly I can multiply the list to improve its chance. Hence, this was a simpler (most likely a bit less efficient) but effective way to achieve the same effect.\n",
        "\n",
        "*   I also made rhyming in the backwards only ... just to prove that it was possible But I didnt do it in other n gram models because of more assignments that I needed to do. I used a simple method of checking for words with only the last letter being common but using edit distance would give more accuracy.\n",
        "\n",
        "*   Also included a comparison in the end with all n-gram models trying to work on the same firstword in order to check how different the answers can get.\n",
        "\n",
        "\n",
        "\n",
        "\n",
        "\n",
        "\n"
      ]
    },
    {
      "cell_type": "markdown",
      "metadata": {
        "id": "LMpfB_1XlC1s"
      },
      "source": [
        "Initializing and Tokenizing Corpus"
      ]
    },
    {
      "cell_type": "code",
      "metadata": {
        "colab": {
          "resources": {
            "http://localhost:8080/nbextensions/google.colab/files.js": {
              "data": "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",
              "ok": true,
              "headers": [
                [
                  "content-type",
                  "application/javascript"
                ]
              ],
              "status": 200,
              "status_text": ""
            }
          },
          "base_uri": "https://localhost:8080/",
          "height": 73
        },
        "id": "2BLcLY68lA8_",
        "outputId": "4d6e1aa1-870b-4e45-8db4-880680d97c13"
      },
      "source": [
        "from google.colab import files\n",
        "uploaded = files.upload()\n",
        "#open iqbal,faiz,ghalib"
      ],
      "execution_count": 1,
      "outputs": [
        {
          "output_type": "display_data",
          "data": {
            "text/html": [
              "\n",
              "     <input type=\"file\" id=\"files-9de46cde-f002-4a29-ad77-0ee0d6703f85\" name=\"files[]\" multiple disabled\n",
              "        style=\"border:none\" />\n",
              "     <output id=\"result-9de46cde-f002-4a29-ad77-0ee0d6703f85\">\n",
              "      Upload widget is only available when the cell has been executed in the\n",
              "      current browser session. Please rerun this cell to enable.\n",
              "      </output>\n",
              "      <script src=\"/nbextensions/google.colab/files.js\"></script> "
            ],
            "text/plain": [
              "<IPython.core.display.HTML object>"
            ]
          },
          "metadata": {
            "tags": []
          }
        },
        {
          "output_type": "stream",
          "text": [
            "Saving faiz.txt to faiz.txt\n"
          ],
          "name": "stdout"
        }
      ]
    },
    {
      "cell_type": "code",
      "metadata": {
        "colab": {
          "resources": {
            "http://localhost:8080/nbextensions/google.colab/files.js": {
              "data": "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",
              "ok": true,
              "headers": [
                [
                  "content-type",
                  "application/javascript"
                ]
              ],
              "status": 200,
              "status_text": ""
            }
          },
          "base_uri": "https://localhost:8080/",
          "height": 73
        },
        "id": "BnltXRColgRT",
        "outputId": "616e9f5b-7067-4da3-db3d-a8b9c384205c"
      },
      "source": [
        "from google.colab import files\n",
        "uploaded = files.upload()"
      ],
      "execution_count": 2,
      "outputs": [
        {
          "output_type": "display_data",
          "data": {
            "text/html": [
              "\n",
              "     <input type=\"file\" id=\"files-1b4485cf-95fe-4719-9b83-eed426312889\" name=\"files[]\" multiple disabled\n",
              "        style=\"border:none\" />\n",
              "     <output id=\"result-1b4485cf-95fe-4719-9b83-eed426312889\">\n",
              "      Upload widget is only available when the cell has been executed in the\n",
              "      current browser session. Please rerun this cell to enable.\n",
              "      </output>\n",
              "      <script src=\"/nbextensions/google.colab/files.js\"></script> "
            ],
            "text/plain": [
              "<IPython.core.display.HTML object>"
            ]
          },
          "metadata": {
            "tags": []
          }
        },
        {
          "output_type": "stream",
          "text": [
            "Saving ghalib.txt to ghalib.txt\n"
          ],
          "name": "stdout"
        }
      ]
    },
    {
      "cell_type": "code",
      "metadata": {
        "colab": {
          "resources": {
            "http://localhost:8080/nbextensions/google.colab/files.js": {
              "data": "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",
              "ok": true,
              "headers": [
                [
                  "content-type",
                  "application/javascript"
                ]
              ],
              "status": 200,
              "status_text": ""
            }
          },
          "base_uri": "https://localhost:8080/",
          "height": 73
        },
        "id": "76Khu1wmljTw",
        "outputId": "f801bdb1-7390-44a0-84be-896a785737e2"
      },
      "source": [
        "from google.colab import files\n",
        "uploaded = files.upload()"
      ],
      "execution_count": 4,
      "outputs": [
        {
          "output_type": "display_data",
          "data": {
            "text/html": [
              "\n",
              "     <input type=\"file\" id=\"files-6fab3dd5-b64d-4247-ac47-014994b5824c\" name=\"files[]\" multiple disabled\n",
              "        style=\"border:none\" />\n",
              "     <output id=\"result-6fab3dd5-b64d-4247-ac47-014994b5824c\">\n",
              "      Upload widget is only available when the cell has been executed in the\n",
              "      current browser session. Please rerun this cell to enable.\n",
              "      </output>\n",
              "      <script src=\"/nbextensions/google.colab/files.js\"></script> "
            ],
            "text/plain": [
              "<IPython.core.display.HTML object>"
            ]
          },
          "metadata": {
            "tags": []
          }
        },
        {
          "output_type": "stream",
          "text": [
            "Saving iqbal.txt to iqbal.txt\n"
          ],
          "name": "stdout"
        }
      ]
    },
    {
      "cell_type": "code",
      "metadata": {
        "id": "7ke17oUMlB_1"
      },
      "source": [
        "import csv\n",
        "import spacy\n",
        "unlp = spacy.blank('ur') #ur = for urdu\n",
        "with open('iqbal.txt', 'rt', encoding=\"utf-8\") as f:\n",
        "    reader = f.read()\n",
        "f.close()\n",
        "iqbalsentence = reader.split('\\n')\n",
        "iqbalwords = reader.split()\n",
        "#print(iqbal)"
      ],
      "execution_count": 5,
      "outputs": []
    },
    {
      "cell_type": "code",
      "metadata": {
        "id": "bS-mo7zLlpTM"
      },
      "source": [
        "with open('ghalib.txt', 'rt', encoding=\"utf-8\") as f:\n",
        "    reader = f.read()\n",
        "f.close()\n",
        "ghalibsentence = reader.split('\\n')\n",
        "ghalibwords = reader.split()\n",
        "#print(ghalib)\n",
        "#for w in ghalib:\n",
        "  #print(w)"
      ],
      "execution_count": 6,
      "outputs": []
    },
    {
      "cell_type": "code",
      "metadata": {
        "id": "a_8w4LdAmIVi"
      },
      "source": [
        "with open('faiz.txt', 'rt', encoding=\"utf-8\") as f:\n",
        "    reader = f.read()\n",
        "f.close()\n",
        "faizsentence = reader.split('\\n')\n",
        "faizwords = reader.split()\n",
        "\n",
        "#if faizsentence[2] == '':\n",
        "  #print(\"TEST\" ,faizsentence[1][-3],faizsentence[1][-2],faizsentence[1][-1])\n",
        "lines = 0\n",
        "\n",
        "#for w in faizsentence:\n",
        "  #print(w)\n",
        "\n",
        "#print(len(faizsentence))\n",
        "#print(len(faizwords))"
      ],
      "execution_count": 7,
      "outputs": []
    },
    {
      "cell_type": "markdown",
      "metadata": {
        "id": "EHY7dXePp20M"
      },
      "source": [
        "N-Gram Models"
      ]
    },
    {
      "cell_type": "markdown",
      "metadata": {
        "id": "-ps6_0Hn3eK8"
      },
      "source": [
        "Generate Word function"
      ]
    },
    {
      "cell_type": "code",
      "metadata": {
        "id": "r8Qin3AK3d6l"
      },
      "source": [
        "import random\n",
        "from nltk.probability import ConditionalFreqDist"
      ],
      "execution_count": 8,
      "outputs": []
    },
    {
      "cell_type": "code",
      "metadata": {
        "id": "Dda7X0p20XD4"
      },
      "source": [
        "import random\n",
        "import copy\n",
        "\n",
        "#used to pick firstword which is picked from the first word in the all the sentences used\n",
        "\n",
        "def firstword(selectsentence):\n",
        "  add = 0\n",
        "  firstlist = list()\n",
        "  for i in range (len(selectsentence)-1):\n",
        "    words = \"\"\n",
        "    if selectsentence[i] != '':\n",
        "      for j in range(len(selectsentence[i])-1):\n",
        "        if (selectsentence[i][j] == \" \"):\n",
        "          break\n",
        "        else:\n",
        "          words += selectsentence[i][j]\n",
        "      if (len(words) > 0):\n",
        "        firstlist.append(words)\n",
        "\n",
        "  #print(add)\n",
        "  #print(len(selectsentence))\n",
        "\n",
        "  currentword = firstlist[random.randint(0,len(firstlist)-1)]\n",
        "  #print(currentword)\n",
        "  return currentword\n",
        "\n",
        "#brings a list of selected corpus' sentences and selects last word from it\n",
        "def lastword(selectedsentence):\n",
        "  add = 0\n",
        "  lastlist = list()\n",
        "  for i in range(len(selectedsentence)-1):\n",
        "    words = \"\"\n",
        "    if selectedsentence[i] != '':\n",
        "      #print(\"I \",i)\n",
        "      for j in range(len(selectedsentence[i])-1):\n",
        "        if (selectedsentence[i][-j-1] == \" \"):\n",
        "          break\n",
        "        else:\n",
        "          words += selectedsentence[i][-j-1]\n",
        "      if (len(words) > 0):\n",
        "        words = reverse(words)\n",
        "        lastlist.append(words)\n",
        "    #print(\"I \",i)\n",
        "    #if i == len(selectedsentence)-3:\n",
        "  #print(add)\n",
        "  #print(len(selectedsentence))\n",
        "  #print(\"TEST BROZER, \", len(lastlist))\n",
        "  currentword = lastlist[random.randint(0,len(lastlist)-1)]\n",
        "  #print(currentword)\n",
        "  return currentword\n",
        "\n",
        "def reverse(string):\n",
        "    string = string[::-1]\n",
        "    return string\n"
      ],
      "execution_count": 9,
      "outputs": []
    },
    {
      "cell_type": "markdown",
      "metadata": {
        "id": "5XxO43GNW-B8"
      },
      "source": [
        "UniGram"
      ]
    },
    {
      "cell_type": "code",
      "metadata": {
        "id": "VXh1WcDGW9YI"
      },
      "source": [
        "def createunigram(selectwords):\n",
        "  unigrams = []\n",
        "  for i in range(len(selectwords)-1):\n",
        "    w1 = selectwords[i]\n",
        "    unigrams.append(tuple(w1))\n",
        "    \n",
        "  return unigrams"
      ],
      "execution_count": 90,
      "outputs": []
    },
    {
      "cell_type": "code",
      "metadata": {
        "id": "qfTb1knajvL8"
      },
      "source": [
        "def unistanza(selectwords,boolword = \"DEFAULT\"):\n",
        "  currentword = \"\"\n",
        "  if uniword == \"f\":\n",
        "    unigrams = createunigram(faizwords)\n",
        "  elif uniword == \"g\":\n",
        "    unigrams = createunigram(ghalibwords)\n",
        "  else:\n",
        "    unigrams = createunigram(iqbalwords)\n",
        "\n",
        "  for size in range(4):\n",
        "    verse = \"\"\n",
        "    if boolword != \"DEFAULT\" and size == 0:   #THIS IS TO ENSURE FIRST WORD is boolword\n",
        "      currentword = boolword\n",
        "      verse += \" \" + currentword\n",
        "\n",
        "    versesize = random.randint(7,10)\n",
        "    wordcount = len(unigrams)-1\n",
        "    for v in range(versesize):\n",
        "      nextword = random.randint(0,wordcount)    #PICKS next word via probability\n",
        "      index = 0\n",
        "      tempword = []\n",
        "      for i in unigrams:\n",
        "        if index == nextword:\n",
        "          tempword = i\n",
        "          break\n",
        "        index +=1  \n",
        "      currentword = \"\"\n",
        "      for i in range(len(tempword)-1):\n",
        "        currentword += tempword[i]\n",
        "      verse += \" \" + currentword\n",
        "    print(verse)\n",
        "    #currentword = currentbigram.index(random.randint(0,wordcount))\n",
        "  print(\"\\n\")\n",
        "  return None"
      ],
      "execution_count": 101,
      "outputs": []
    },
    {
      "cell_type": "code",
      "metadata": {
        "colab": {
          "base_uri": "https://localhost:8080/"
        },
        "id": "a6haS3tgk2_1",
        "outputId": "65b2c51d-d5ca-4611-b80a-ae6663a0c311"
      },
      "source": [
        "uniword = \"\"\n",
        "uniword = input(\"Press f for faiz, g for ghalib and i for iqbal : \")\n",
        "print(\"\\n\")\n",
        "for i in range(4):\n",
        "  unistanza(uniword)"
      ],
      "execution_count": 99,
      "outputs": [
        {
          "output_type": "stream",
          "text": [
            "Press f for faiz, g for ghalib and i for iqbal : g\n",
            "\n",
            "\n",
            " تھ اس قدر طرف ہی ہو ی ک قر تھ\n",
            " ک وہ جلو گ س کبھ یا ايس ہ س\n",
            " بچھائ مثل خمیاز سات صاح  دا آ\n",
            " ت Muqadda قطر حجا نہی نکل ہو ا بھی\n",
            "\n",
            "\n",
            " جذبا می ن ہ تیغ ک ہ ن\n",
            " بنای پھ س می معشو دو شوخی نہی اگ\n",
            " غمز گس آئ ن پای ک د ک نِگا\n",
            " تج بھ ہو س او پیا نظ\n",
            "\n",
            "\n",
            " دینگ سبزہ ن ج پایا پھ د سَو\n",
            " قابل بر ساق غریب اگ اصل کف س ل گھ\n",
            "  چاک جہا میر جائی غال کد می بسان تھ\n",
            " دفین ج ہ رش مقاب آرزو زمان ن\n",
            "\n",
            "\n",
            "  می حن مشک آگ جو ص\n",
            " نجا حس گریبا حجا س ہوت تھ ذلیخ تھ دا\n",
            " ک بسم غل آد منظو س غریب ہے خمار\n",
            " ہے چل یو دفین ن ک ہوت شم کشای\n",
            "\n",
            "\n"
          ],
          "name": "stdout"
        }
      ]
    },
    {
      "cell_type": "markdown",
      "metadata": {
        "id": "F2Nn-BRyafnU"
      },
      "source": [
        "Bigram"
      ]
    },
    {
      "cell_type": "code",
      "metadata": {
        "id": "5HAJT-EUSY7E"
      },
      "source": [
        "#CONTAINS ALL BIGRAMS OF SELECTED CORPUS\n",
        "def createbigram(selectwords):\n",
        "  bigrams = []\n",
        "  for i in range(len(selectwords)-1):\n",
        "    w1 = selectwords[i]\n",
        "    w2 = selectwords[i+1]\n",
        "    bigrams.append(tuple((w1, w2)))\n",
        "\n",
        "  #len(bigrams)\n",
        "  return bigrams"
      ],
      "execution_count": 10,
      "outputs": []
    },
    {
      "cell_type": "code",
      "metadata": {
        "id": "DOX4vhWG3owx"
      },
      "source": [
        "def bistanza(biword,boolword = \"DEFAULT\"):\n",
        "  currentword = \"\"\n",
        "  if biword == \"f\":\n",
        "    bigrams = createbigram(faizwords)\n",
        "  elif biword == \"g\":\n",
        "    bigrams = createbigram(ghalibwords)\n",
        "  else:\n",
        "    bigrams = createbigram(iqbalwords)\n",
        "\n",
        "\n",
        "  for size in range(4):\n",
        "    verse = \"\"\n",
        "    versesize = random.randint(7,10)\n",
        "    #print(versesize)\n",
        "    if (size == 0):\n",
        "      currentword = \"\"\n",
        "      if biword == \"f\":\n",
        "        currentword = firstword(faizsentence)\n",
        "      elif biword == \"g\":\n",
        "        currentword = firstword(ghalibsentence)\n",
        "      else:\n",
        "        currentword = firstword(iqbalsentence)\n",
        "    if (boolword != \"DEFAULT\" and size == 0):\n",
        "      currentword = boolword\n",
        "    verse += \" \" + currentword\n",
        "    #print(currentword)\n",
        "    for v in range(versesize):\n",
        "      currentbigram = []\n",
        "      for w in bigrams:\n",
        "        if (w[0] == currentword):\n",
        "          currentbigram.append(w)\n",
        "\n",
        "      wordcount = len(currentbigram)-1\n",
        "\n",
        "      nextword = random.randint(0,wordcount)    #PICKS next word via probability\n",
        "      index = 0\n",
        "      #print(\"next word Index = \",nextword)\n",
        "      #for i in currentbigram:\n",
        "        #print(i[0], i[1])\n",
        "      for i in currentbigram:\n",
        "        if index == nextword:\n",
        "          currentword = i[1]\n",
        "          break\n",
        "        index +=1\n",
        "        #print(i[0], i[1])\n",
        "      #print(currentword)  \n",
        "      verse += \" \" + currentword\n",
        "    print(verse)\n",
        "    #currentword = currentbigram.index(random.randint(0,wordcount))\n",
        "  print(\"\\n\")\n",
        "  return None"
      ],
      "execution_count": 11,
      "outputs": []
    },
    {
      "cell_type": "code",
      "metadata": {
        "colab": {
          "base_uri": "https://localhost:8080/"
        },
        "id": "fkupH_9_TB2g",
        "outputId": "d7999fe8-d835-415f-952e-82bae4358d62"
      },
      "source": [
        "biword = \"\"\n",
        "biword = input(\"Press f for faiz, g for ghalib and i for iqbal : \")\n",
        "print(\"\\n\")\n",
        "for i in range(4):\n",
        "  bistanza(biword)\n",
        "  #print(\"\\n\")"
      ],
      "execution_count": 12,
      "outputs": [
        {
          "output_type": "stream",
          "text": [
            "Press f for faiz, g for ghalib and i for iqbal : f\n",
            "\n",
            "\n",
            " ضبط کا دیدہ و بادہ تو ثواب صدق و دل سلگنے\n",
            " سلگنے لگے محفل پہ دار آ گیا آخر\n",
            " آخر شب آرزو کریں سینے پہ تو ہوتا\n",
            " ہوتا رواں ہے درد دل کا حساب آئے اس کف\n",
            "\n",
            "\n",
            " سینے کا رنگ گل آئی امتحاں کی یاد کا\n",
            " کا دیدہ و رضا ایسے نہیں ہوتا صنم میں مل بیٹھے\n",
            " بیٹھے تو صبح ہو کے دیکھ لیا اور\n",
            " اور کیا نہ ہوئے ان آنکھوں کے دیکھ\n",
            "\n",
            "\n",
            " ان کو بہم ساغر و کرم سے خوف\n",
            " خوف و دل سنبھالے رہو زباں کی طرح صحن گلشن کا\n",
            " کا پوچھو تو کس سے لوٹ کے لب پر ہوا\n",
            " ہوا محتسب مہرباں دل میں مرے نہ تھے لب پر ہے\n",
            "\n",
            "\n",
            " مرے نہ گنواؤ ناوک نیم کش دل زدگاں\n",
            " زدگاں کوئی قصہ سناتی رہی رند سے دل دکھاتی\n",
            " دکھاتی رہی رات بھر یک بیک شورش فغاں کی طرح جانے\n",
            " جانے کس پر ہو چکا دیا جو ویراں\n",
            "\n",
            "\n"
          ],
          "name": "stdout"
        }
      ]
    },
    {
      "cell_type": "markdown",
      "metadata": {
        "id": "2kb5BgJq0Gyz"
      },
      "source": [
        "Backward Bigram Model"
      ]
    },
    {
      "cell_type": "code",
      "metadata": {
        "id": "nTyaTd2L0LUv"
      },
      "source": [
        "def bibackstanza(biword,boolword = \"DEFAULT\"):\n",
        "  currentword = \"\"\n",
        "  lastrhymeword = \"\"\n",
        "  if biword == \"f\":\n",
        "    bigrams = createbigram(faizwords)\n",
        "  elif biword == \"g\":\n",
        "    bigrams = createbigram(ghalibwords)\n",
        "  else:\n",
        "    bigrams = createbigram(iqbalwords)\n",
        "\n",
        "\n",
        "  for size in range(4):\n",
        "    verse = []\n",
        "    versesize = random.randint(7,10)\n",
        "    if (size == 0):\n",
        "      currentword = \"\"      #UNLIKE IN BIGRAM EACH SENTENCE HAS ITS OWN random words (bi continued from last)\n",
        "\n",
        "    if biword == \"f\" and size == 0:\n",
        "      currentword = lastword(faizsentence)\n",
        "      lastrhymeword = currentword\n",
        "    elif biword == \"g\" and size == 0:\n",
        "      currentword = lastword(ghalibsentence)\n",
        "      lastrhymeword = currentword\n",
        "    elif size == 0:\n",
        "      currentword = lastword(iqbalsentence)\n",
        "      lastrhymeword = currentword\n",
        "\n",
        "    if (boolword != \"DEFAULT\" and size == 0):\n",
        "      currentword = boolword\n",
        "      lastrhymeword = currentword\n",
        "\n",
        "    if (size != 0):       #USE UNIGRAM TO FIND RHYMING WORD BY MATCHING LAST LETTER OF THE WORDS\n",
        "      if biword == \"f\":\n",
        "        unigrams = createunigram(faizwords)\n",
        "      elif biword == \"g\":\n",
        "        unigrams = createunigram(ghalibwords)\n",
        "      else:\n",
        "        unigrams = createunigram(iqbalwords)\n",
        "      similarwords = []\n",
        "      for w in unigrams:\n",
        "        if (w[-1] == lastrhymeword[-1]):\n",
        "          similarwords.append(w)\n",
        "      rhymecount = len(similarwords)-1\n",
        "      rhymeword = random.randint(0,rhymecount)    #PICKS next word via probability\n",
        "      rhymeindex = 0\n",
        "      currentword = \"\"\n",
        "      for i in similarwords:\n",
        "        if rhymeindex == rhymeword:\n",
        "          currentword = i\n",
        "          #print(rhymeword,lastrhymeword[-1],\" word \",i)\n",
        "          break\n",
        "        rhymeindex +=1\n",
        "      lastrhymeword = \"\"\n",
        "      for i in range(len(currentword)):\n",
        "        lastrhymeword += currentword[i]\n",
        "\n",
        "      currentword = lastrhymeword\n",
        "      #print(\"Current word = \",currentword)\n",
        "\n",
        "    #print(\"Current word = \",currentword)\n",
        "    verse.append(currentword)\n",
        "    #CONDITION IS 2 FOR BIGRAMS\n",
        "    for v in range(versesize):\n",
        "      currentbigram = []\n",
        "      for w in bigrams:\n",
        "        if (w[1] == currentword):\n",
        "          currentbigram.append(w)\n",
        "\n",
        "      wordcount = len(currentbigram)-1\n",
        "\n",
        "      nextword = random.randint(0,wordcount)    #PICKS next word via probability\n",
        "      index = 0\n",
        "      for i in currentbigram:\n",
        "        if index == nextword:\n",
        "          currentword = i[0]\n",
        "          break\n",
        "        index +=1\n",
        "      verse.append(currentword)\n",
        "    verse.reverse()\n",
        "    versestring = \"\"\n",
        "    for i in verse:\n",
        "      versestring += \" \" + i\n",
        "    print(versestring)\n",
        "  print(\"\\n\")\n",
        "  return None"
      ],
      "execution_count": 79,
      "outputs": []
    },
    {
      "cell_type": "code",
      "metadata": {
        "colab": {
          "base_uri": "https://localhost:8080/"
        },
        "id": "SbwD7n44W9s2",
        "outputId": "5b45719b-0d2d-44a4-cfe7-e7e8f65248fb"
      },
      "source": [
        "biword = \"\"\n",
        "biword = input(\"Press f for faiz, g for ghalib and i for iqbal : \")\n",
        "print(\"\\n\")\n",
        "for i in range(4):\n",
        "  bibackstanza(biword)"
      ],
      "execution_count": 80,
      "outputs": [
        {
          "output_type": "stream",
          "text": [
            "Press f for faiz, g for ghalib and i for iqbal : g\n",
            "\n",
            "\n",
            " در نہیں مجھے کیا کریں؟ لطفِ دریغ آتا ہو ہے\n",
            " ہے ہم گزر گاہ خیال بیاباں خوش جب مٹ گئیں‘ اجزائے\n",
            " تو دکھلا دوں کہ مر گیا دل میں اشعار کہنے\n",
            " دل جوں موئے سرِ دیوانہ گر نظر نہ کرے ہے\n",
            "\n",
            "\n",
            " سے گھائل آئے کیوں؟ جب اس قدر تنگ\n",
            " ہی ہے ناتوانیِ شمع نشاطِ تصور سے معاملہ اپنے ہاتھ باگ\n",
            " بقولِ ناسخ ’آپ بے قرار کیا علم کہ ہم نے رنگ\n",
            " یا رب! حسابِ سوز ہے آتش زیر بارِ منت کش گلبانگ\n",
            "\n",
            "\n",
            " ہوں ترے کوچے کو ساغر و خشت‘ درد تھا\n",
            " یا رب ہمیں حاصل نہ دو دن رات کیا\n",
            " کبھی تو روٹھ گئے کہا جو حجاب کہ‘ پتھر نہیں رہا\n",
            " نقابِ حسن میں جرأت آزما نہ ہوتا نہ کبھی صبا\n",
            "\n",
            "\n",
            " تو خدا ہوتا کوئی مجھ کو میں وہ بادہ آشامی\n",
            " بے دوا نہ دی ہوتی‘ خدایا! آرزوئے خانہ ویرانی\n",
            " کروں کیا، کارفرما جل گیا آتش میں کرتے نہیں کوئی\n",
            " ساحل کا کاوش غم اگرچہ جاں کے خواب کیساتھ دوست غمخواری\n",
            "\n",
            "\n"
          ],
          "name": "stdout"
        }
      ]
    },
    {
      "cell_type": "markdown",
      "metadata": {
        "id": "bXyAJIvZMNnl"
      },
      "source": [
        "Bidirectional Bigram Model"
      ]
    },
    {
      "cell_type": "code",
      "metadata": {
        "id": "sKXPIbhWMP9O"
      },
      "source": [
        "def bidrectional(biword,boolword = \"DEFAULT\"):\n",
        "  currentword = \"\"\n",
        "  backword = \"\"\n",
        "  forwardword = \"\"\n",
        "  if biword == \"f\":\n",
        "    bigrams = createbigram(faizwords)\n",
        "  elif biword == \"g\":\n",
        "    bigrams = createbigram(ghalibwords)\n",
        "  else:\n",
        "    bigrams = createbigram(iqbalwords)\n",
        "\n",
        "\n",
        "  for size in range(4):\n",
        "    verse = \"\"\n",
        "    backverse = []\n",
        "    forwardverse = \"\"\n",
        "    versesize = random.randint(7,10)\n",
        "    #print(versesize)\n",
        "    currentword = \"\"        #RANDOM WORD PICKED FOR ALL VERSES\n",
        "    if biword == \"f\":\n",
        "      currentword = firstword(faizsentence)\n",
        "    elif biword == \"g\":\n",
        "      currentword = firstword(ghalibsentence)\n",
        "    else:\n",
        "      currentword = firstword(iqbalsentence)\n",
        "\n",
        "    if(boolword != \"DEFAULT\" and size == 0):\n",
        "      currentword = boolword\n",
        "    #print(currentword)\n",
        "    forwardverse += \" \" + currentword\n",
        "    for v in range(int(versesize/2)):\n",
        "      forwardbigram = []\n",
        "      backbigram = []\n",
        "      for w in bigrams:\n",
        "        if (size == 0):\n",
        "          if (w[0] == currentword):\n",
        "            forwardbigram.append(w)\n",
        "          if (w[1] == currentword):\n",
        "            backbigram.append(w)\n",
        "        else:\n",
        "          if (w[0] == forwardword):\n",
        "            forwardbigram.append(w)\n",
        "          if (w[1] == backword):\n",
        "            backbigram.append(w)\n",
        "\n",
        "      backwordcount = len(backbigram)-1\n",
        "      forwardcount = len(forwardbigram)-1\n",
        "\n",
        "      nextback = random.randint(0,backwordcount)    #PICKS next word via probability\n",
        "      nextforward = random.randint(0,forwardcount)    #PICKS next word via probability\n",
        "      indexback = 0\n",
        "      indexforward = 0\n",
        "      #print(\"next word Index = \",nextword)\n",
        "      #for i in currentbigram:\n",
        "        #print(i[0], i[1])\n",
        "      for i in backbigram:\n",
        "        if indexback == nextback:\n",
        "          backword = i[0]\n",
        "          break\n",
        "        indexback +=1\n",
        "      for j in forwardbigram:\n",
        "        if indexforward == nextforward:\n",
        "          forwardword = j[1]\n",
        "          break\n",
        "        indexforward +=1\n",
        "        #print(i[0], i[1])\n",
        "      #print(currentword)  \n",
        "      forwardverse += \" \" + forwardword\n",
        "      backverse.append(backword)\n",
        "\n",
        "    backverse.reverse()\n",
        "    backversestring = \"\"\n",
        "    for i in backverse:\n",
        "      backversestring += \" \" + i\n",
        "    verse += backversestring + forwardverse\n",
        "    print(verse)\n",
        "    #currentword = currentbigram.index(random.randint(0,wordcount))\n",
        "  print(\"\\n\")\n",
        "  return None"
      ],
      "execution_count": 27,
      "outputs": []
    },
    {
      "cell_type": "code",
      "metadata": {
        "colab": {
          "base_uri": "https://localhost:8080/"
        },
        "id": "mY7qxBgqN-4_",
        "outputId": "aeb4038e-2504-4193-ffe6-07e7662e1436"
      },
      "source": [
        "biword = \"\"\n",
        "biword = input(\"Press f for faiz, g for ghalib and i for iqbal : \")\n",
        "print(\"\\n\")\n",
        "for i in range(4):\n",
        "  bidrectional(biword)"
      ],
      "execution_count": 29,
      "outputs": [
        {
          "output_type": "stream",
          "text": [
            "Press f for faiz, g for ghalib and i for iqbal : g\n",
            "\n",
            "\n",
            " ہے کو ہے ہاں بھلا یہ بھلا\n",
            " طبعِ آرزو رہا قیس سکا وہ کیوں\n",
            " عالم تمام بہ نازکیِ زخم ہر نمط غمِ الفت\n",
            " جاناں کے دل‘ یک ہم کہوں زخم ہائے تمنا،\n",
            "\n",
            "\n",
            " سے تھا کی؟ دل پہ میں‘ کا\n",
            " سو پریشاں کیوں گردشِ مدام بادشاہی لبریز نور تھا کچھ تو\n",
            " ہو گئیں ہم بہت‘ دی سہل ہے واعظ! خلد\n",
            " تن میں میں نمایاں ہم میں مرگ ہلتے ہیں\n",
            "\n",
            "\n",
            " نہیں نہیں نہیں نہیں نہیں شوریدگی کے کے کے کے کے\n",
            " ہیں آرزو ہے کام گر نہ آدمی تھے ہم مصوّری تقریب\n",
            " جل گیا کہتے کفر کچھ نہ کہیں\n",
            " نیک ہوں قیاس‘ اہل دنیا جاں گے‘ ’’ بزمِ بیخودی مجھے\n",
            "\n",
            "\n",
            " یہ یہ اسے کون لا سے سے\n",
            " کہاں سے سہی آئینۂ وہ نقشہ تیرے\n",
            " سویدا کہیں جسے ایسا حد آئے کیوں اس کے\n",
            " کو زندان بیتابی کمند آیا قیس شامل آئے آئیں گھر میں\n",
            "\n",
            "\n"
          ],
          "name": "stdout"
        }
      ]
    },
    {
      "cell_type": "markdown",
      "metadata": {
        "id": "59dnW1kYjAQp"
      },
      "source": [
        "Trigram"
      ]
    },
    {
      "cell_type": "code",
      "metadata": {
        "id": "B8OP9hqqjJ9r"
      },
      "source": [
        "def createtrigram(selectwords):\n",
        "  trigrams = list()\n",
        "  for i in range(len(selectwords)-2):\n",
        "    w1 = selectwords[i]\n",
        "    w2 = selectwords[i+1]\n",
        "    w3 = selectwords[i+2]\n",
        "    trigrams.append(tuple((w1, w2, w3)))\n",
        "  return trigrams"
      ],
      "execution_count": 17,
      "outputs": []
    },
    {
      "cell_type": "code",
      "metadata": {
        "id": "XO5TnrS1vfyf"
      },
      "source": [
        "def tristanza(triword,boolword = \"DEFAULT\"):\n",
        "  currentword = \"\"\n",
        "  secondword = \"\"\n",
        "  if triword == \"f\":\n",
        "    trigrams = createtrigram(faizwords)\n",
        "  elif triword == \"g\":\n",
        "    trigrams = createtrigram(ghalibwords)\n",
        "  else:\n",
        "    trigrams = createtrigram(iqbalwords)\n",
        "\n",
        "  if triword == \"f\":\n",
        "    bigrams = createbigram(faizwords)\n",
        "  elif triword == \"g\":\n",
        "    bigrams = createbigram(ghalibwords)\n",
        "  else:\n",
        "    bigrams = createbigram(iqbalwords)\n",
        "\n",
        "\n",
        "  for size in range(4):\n",
        "    verse = \"\"\n",
        "    versesize = random.randint(7,10)\n",
        "    #print(versesize)\n",
        "    if (size == 0 and boolword == \"DEFAULT\"):\n",
        "      currentword = \"\"\n",
        "      secondword = \"\"\n",
        "      index = 0\n",
        "      #print(\"next word Index = \",nextword)\n",
        "      #for i in currentbigram:\n",
        "        #print(i[0], i[1])\n",
        "      if triword == \"f\":\n",
        "        currentword = firstword(faizsentence)\n",
        "      elif triword == \"g\":\n",
        "        currentword = firstword(ghalibsentence)\n",
        "      else:\n",
        "        currentword = firstword(iqbalsentence)\n",
        "    elif (boolword != \"DEFAULT\" and size == 0):\n",
        "      currentword = boolword\n",
        "\n",
        "    currentbigram = []      #adds all bigrams with currentword as first word into a list\n",
        "    for w in bigrams:\n",
        "      if (w[0] == currentword):\n",
        "        currentbigram.append(w)\n",
        "    wordcount = len(currentbigram)-1\n",
        "    nextword = random.randint(0,wordcount)    #PICKS next word via probability\n",
        "    index = 0\n",
        "    for i in currentbigram:   #picks one random option from the new list\n",
        "      if index == nextword:\n",
        "        secondword = i[1]\n",
        "        break\n",
        "      index +=1\n",
        "    subtract = 2\n",
        "    if size == 0:\n",
        "      verse += \" \" + currentword\n",
        "      verse += \" \" + secondword\n",
        "    else:\n",
        "      verse += \" \" + secondword\n",
        "      subtract = 1\n",
        "    #print(currentword)\n",
        "    #print(secondword)\n",
        "    for v in range(versesize-subtract):  #-2 done bcus its a trigram and first iteration already added\n",
        "      currentrigram = []\n",
        "      for w in trigrams:\n",
        "        if w[0] == currentword and w[1] == secondword:\n",
        "          currentrigram.append(w)\n",
        "\n",
        "      wordcount = len(currentrigram)-1\n",
        "      #print(\"LEN = \",len(currentrigram))\n",
        "      nextword = random.randint(0,wordcount)    #PICKS next word via probability\n",
        "      index = 0\n",
        "      #print(\"next word Index = \",nextword)\n",
        "      #for i in currentbigram:\n",
        "        #print(i[0], i[1])\n",
        "      for i in currentrigram:\n",
        "        if index == nextword:\n",
        "          currentword = secondword\n",
        "          secondword = i[2]\n",
        "          break\n",
        "        index +=1\n",
        "        #print(i[0], i[1])\n",
        "      #print(currentword)  \n",
        "      verse += \" \" + secondword\n",
        "    currentword = secondword\n",
        "    secondword = \"\"\n",
        "    print(verse)\n",
        "\n",
        "    #currentword = currentbigram.index(random.randint(0,wordcount))\n",
        "  print(\"\\n\")\n",
        "  return None"
      ],
      "execution_count": 18,
      "outputs": []
    },
    {
      "cell_type": "code",
      "metadata": {
        "colab": {
          "base_uri": "https://localhost:8080/"
        },
        "id": "KmAmnsuj7c6L",
        "outputId": "405067f4-f391-441f-b939-1249218f91a7"
      },
      "source": [
        "triword = \"\"\n",
        "triword = input(\"Press f for faiz, g for ghalib and i for iqbal : \")\n",
        "print(\"\\n\")\n",
        "for i in range(4):\n",
        "  tristanza(triword)"
      ],
      "execution_count": 19,
      "outputs": [
        {
          "output_type": "stream",
          "text": [
            "Press f for faiz, g for ghalib and i for iqbal : f\n",
            "\n",
            "\n",
            " فرقت یار نے آباد کیا آخر شب کون کرتا\n",
            " ہے وفا عہد وفا کیا تو کیا نہ تھے\n",
            " جب مل بیٹھے تو دشمن کا بھی ساتھ گوارا گزرے\n",
            " قیامت یوں تو ہوتا ہے مگر ہر صبح ہو روز\n",
            "\n",
            "\n",
            " بے نقاب آئے عمر کے ہر ورق پہ\n",
            " گزری سو گزری مگر شب ہجراں ہمارے\n",
            " اشک تری عاقبت سنوار چلے حضور یار ہوئی دفتر\n",
            " جنوں کی طلب گرہ میں لے کے گریباں کا تار\n",
            "\n",
            "\n",
            " جب ہم نے آنکھوں کے دریچے بند\n",
            " کیے اور سینے کا در باز کیا\n",
            " جدا تھے ہم جو چلے تو جاں سے\n",
            " خوف خدا گیا وہ پڑی ہیں جدائیاں کیا کیا ستم\n",
            "\n",
            "\n",
            " آنکھ اٹھتے ہی ایک نظر میں کچھ ہم نے\n",
            " کی ہیں جہاں میں کشتۂ غم اور\n",
            " کیا نہ نظارا گزرے تھا ستم سکھلائے گا رسم وفا\n",
            " عہد وفا آخر شب وہ جو اک عمر سے\n",
            "\n",
            "\n"
          ],
          "name": "stdout"
        }
      ]
    },
    {
      "cell_type": "markdown",
      "metadata": {
        "id": "HbP1X6iahmiE"
      },
      "source": [
        "COMPARISON OF ALL N-GRAMS"
      ]
    },
    {
      "cell_type": "markdown",
      "metadata": {
        "id": "WBz1tHLIm8sV"
      },
      "source": [
        "We pick the same first random word for all models. It is observed that:-\n",
        "\n",
        "\n",
        "*   Unigram has the same first word and then random words later on\n",
        "*   Bigram and trigram have the same first word and try to make sense of it\n",
        "\n",
        "*   Backwards last word in sentence is the chosen word\n",
        "*   Bidirectionals middle word is the chosen word as it starts its sentence from there\n",
        "\n",
        "\n",
        "In Conclusion, the trigram makes the most sense generally and Unigram has random words picked in it\n",
        "\n",
        "\n"
      ]
    },
    {
      "cell_type": "code",
      "metadata": {
        "colab": {
          "base_uri": "https://localhost:8080/"
        },
        "id": "VpBYvOX_homd",
        "outputId": "cb856a5b-1f48-4e55-9079-047b7a5ec307"
      },
      "source": [
        "setword = \"\"\n",
        "setword = input(\"Press f for faiz, g for ghalib and i for iqbal : \")\n",
        "print(\"\\n\")\n",
        "\n",
        "currentword = \"\"\n",
        "if setword == \"f\":\n",
        "  currentword = firstword(faizsentence)\n",
        "elif setword == \"g\":\n",
        "  currentword = firstword(ghalibsentence)\n",
        "else:\n",
        "  currentword = firstword(iqbalsentence)\n",
        "\n",
        "print(\"First word for all N-grams is : \",currentword)\n",
        "\n",
        "print(\"\\nUnigram\")\n",
        "unistanza(setword,currentword)\n",
        "\n",
        "print(\"\\nBigram\")\n",
        "bistanza(setword,currentword)\n",
        "\n",
        "print(\"\\nBackward Bigram\")\n",
        "bibackstanza(setword,currentword)\n",
        "\n",
        "print(\"\\nBidirectional Bigram\")\n",
        "bidrectional(setword,currentword)\n",
        "\n",
        "print(\"\\nTrigram\")\n",
        "tristanza(setword,currentword)"
      ],
      "execution_count": 102,
      "outputs": [
        {
          "output_type": "stream",
          "text": [
            "Press f for faiz, g for ghalib and i for iqbal : f\n",
            "\n",
            "\n",
            "First word for all N-grams is :  وہ\n",
            "\n",
            "Unigram\n",
            " وہ ہوئ  ہمار مج جوش ہوت تیر\n",
            " ک کہ س رُ قی چار ہ آگاہ\n",
            " ہ ت پھ ک د مگ مغرو\n",
            " ہ ’ ہائ وحش جنبش س او می\n",
            "\n",
            "\n",
            "\n",
            "Bigram\n",
            " وہ پڑی ہیں جہاں میں کچھ تو نہیں\n",
            " نہیں باقی اپنی مشقِ ستم جناب کے انداز\n",
            " انداز سے کی یاد بے حساب آئے کر کوئی محرم ملے\n",
            " ملے ویرانئ دل ربا کے در موج غم\n",
            "\n",
            "\n",
            "\n",
            "Backward Bigram\n",
            " ہے یارو سونپا تھا سر ہیں جدائیاں کیا وہ\n",
            " سبو کریں محفل پہ شیخ ہماری نہ سکی عشق کا نہ\n",
            " چلے تو نہیں ہوتا گنو سب کی گم گشتہ\n",
            " سے گریز تھا واعظ سے آیا جنون گم گشتہ\n",
            "\n",
            "\n",
            "\n",
            "Bidirectional Bigram\n",
            " لیا آشنا فیضؔ ہوئے وہ سکوں راز قرض آبروئے\n",
            " پھر دل کا دیکھ ورنہ وفا عہد وفا جو\n",
            " بھر پھر آج ان کو دیکھو بچے ہیں جدائیاں کیا آخر\n",
            " بدلتی رہی رات دامن شب لمس جانانہ\n",
            "\n",
            "\n",
            "\n",
            "Trigram\n",
            " وہ سارے زمانے بھول گئے جب موسم گل ہر پھیرے\n",
            " میں آ آ کے دوبارا گزرے تھا ستم سکھلائے گا\n",
            " کوئی خبر مے کشوں پر ہوا جام ارغواں کی طرح\n",
            " ہر صدا پر لگے ہیں کان یہاں دل\n",
            "\n",
            "\n"
          ],
          "name": "stdout"
        }
      ]
    }
  ]
}